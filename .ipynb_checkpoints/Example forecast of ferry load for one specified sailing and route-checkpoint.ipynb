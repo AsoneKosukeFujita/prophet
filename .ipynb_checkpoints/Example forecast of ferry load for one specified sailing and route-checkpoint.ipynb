{
 "cells": [
  {
   "cell_type": "markdown",
   "metadata": {},
   "source": [
    "# Example forecast of ferry load for one specified sailing and route\n",
    "\n",
    "1. Open RGui or RStudio in local directory `/home/alastair/source/prophet/examples/`\n",
    "2. Run historical ferry load data for specific sailing time and route\n",
    "3. Install prerequisites for R"
   ]
  },
  {
   "cell_type": "code",
   "execution_count": null,
   "metadata": {
    "scrolled": true
   },
   "outputs": [],
   "source": [
    "# install.packages(\"prophet\")\n",
    "# install.packages(\"dplyr\")"
   ]
  },
  {
   "cell_type": "markdown",
   "metadata": {},
   "source": [
    "4. Run learning routine"
   ]
  },
  {
   "cell_type": "code",
   "execution_count": null,
   "metadata": {},
   "outputs": [],
   "source": [
    "library(prophet)\n",
    "library(dplyr)\n",
    "m <- prophet(df)\n",
    "df <- read.csv('/home/alastair/source/prophet/examples/temp0620.csv') %>% mutate(y=log(y))"
   ]
  },
  {
   "cell_type": "markdown",
   "metadata": {},
   "source": [
    "5. View learning data frame"
   ]
  },
  {
   "cell_type": "code",
   "execution_count": 12,
   "metadata": {},
   "outputs": [
    {
     "data": {
      "text/plain": [
       "$growth\n",
       "[1] \"linear\"\n",
       "\n",
       "$changepoints\n",
       " [1] \"2017-02-08 GMT\" \"2017-02-09 GMT\" \"2017-02-10 GMT\" \"2017-02-11 GMT\"\n",
       " [5] \"2017-02-12 GMT\" \"2017-02-13 GMT\" \"2017-02-14 GMT\" \"2017-02-15 GMT\"\n",
       " [9] \"2017-02-16 GMT\" \"2017-02-17 GMT\" \"2017-02-18 GMT\" \"2017-02-19 GMT\"\n",
       "[13] \"2017-02-20 GMT\" \"2017-02-21 GMT\" \"2017-02-22 GMT\" \"2017-02-23 GMT\"\n",
       "\n",
       "$n.changepoints\n",
       "[1] 16\n",
       "\n",
       "$yearly.seasonality\n",
       "[1] \"auto\"\n",
       "\n",
       "$weekly.seasonality\n",
       "[1] \"auto\"\n",
       "\n",
       "$daily.seasonality\n",
       "[1] \"auto\"\n",
       "\n",
       "$holidays\n",
       "NULL\n",
       "\n",
       "$seasonality.prior.scale\n",
       "[1] 10\n",
       "\n",
       "$changepoint.prior.scale\n",
       "[1] 0.05\n",
       "\n",
       "$holidays.prior.scale\n",
       "[1] 10\n",
       "\n",
       "$mcmc.samples\n",
       "[1] 0\n",
       "\n",
       "$interval.width\n",
       "[1] 0.8\n",
       "\n",
       "$uncertainty.samples\n",
       "[1] 1000\n",
       "\n",
       "$specified.changepoints\n",
       "[1] FALSE\n",
       "\n",
       "$start\n",
       "[1] \"2017-02-07 GMT\"\n",
       "\n",
       "$y.scale\n",
       "[1] 4.60517\n",
       "\n",
       "$logistic.floor\n",
       "[1] FALSE\n",
       "\n",
       "$t.scale\n",
       "[1] 1814400\n",
       "\n",
       "$changepoints.t\n",
       " [1] 0.04761905 0.09523810 0.14285714 0.19047619 0.23809524 0.28571429\n",
       " [7] 0.33333333 0.38095238 0.42857143 0.47619048 0.52380952 0.57142857\n",
       "[13] 0.61904762 0.66666667 0.71428571 0.76190476\n",
       "\n",
       "$seasonalities\n",
       "$seasonalities$weekly\n",
       "$seasonalities$weekly$period\n",
       "[1] 7\n",
       "\n",
       "$seasonalities$weekly$fourier.order\n",
       "[1] 3\n",
       "\n",
       "$seasonalities$weekly$prior.scale\n",
       "[1] 10\n",
       "\n",
       "\n",
       "\n",
       "$extra_regressors\n",
       "list()\n",
       "\n",
       "$stan.fit\n",
       "NULL\n",
       "\n",
       "$params\n",
       "$params$k\n",
       "[1] 0.1169392\n",
       "\n",
       "$params$m\n",
       "[1] 0.7869793\n",
       "\n",
       "$params$delta\n",
       "              [,1]         [,2]       [,3]         [,4]         [,5]\n",
       "[1,] -1.235607e-09 2.955932e-08 -5.947e-09 4.350077e-07 -9.18981e-10\n",
       "             [,6]          [,7]          [,8]          [,9]        [,10]\n",
       "[1,] 5.794743e-08 -2.777831e-08 -2.931722e-08 -1.894567e-08 7.805801e-09\n",
       "            [,11]        [,12]         [,13]         [,14]        [,15]\n",
       "[1,] 1.355325e-08 8.446907e-10 -8.128197e-08 -3.855248e-08 1.310694e-08\n",
       "             [,16]\n",
       "[1,] -5.517514e-10\n",
       "\n",
       "$params$sigma_obs\n",
       "[1] 0.06308713\n",
       "\n",
       "$params$beta\n",
       "            [,1]       [,2]       [,3]        [,4]        [,5]        [,6]\n",
       "[1,] -0.09600782 0.06146319 0.05422521 -0.02049594 -0.01434715 -0.02086108\n",
       "\n",
       "$params$gamma\n",
       " [1]  5.883842e-11 -2.815173e-09  8.495715e-10 -8.285861e-08  2.188050e-10\n",
       " [6] -1.655641e-08  9.259435e-09  1.116847e-08  8.119572e-09 -3.717048e-09\n",
       "[11] -7.099324e-09 -4.826804e-10  5.031741e-08  2.570165e-08 -9.362101e-09\n",
       "[16]  4.203820e-10\n",
       "\n",
       "\n",
       "$history\n",
       "           ds        y floor          t  y_scaled\n",
       "1  2017-02-07 4.110874     0 0.00000000 0.8926649\n",
       "2  2017-02-08 3.931826     0 0.04761905 0.8537851\n",
       "3  2017-02-09 3.295837     0 0.09523810 0.7156819\n",
       "4  2017-02-10 3.970292     0 0.14285714 0.8621379\n",
       "5  2017-02-11 3.295837     0 0.19047619 0.7156819\n",
       "6  2017-02-12 2.833213     0 0.23809524 0.6152245\n",
       "7  2017-02-13 3.091042     0 0.28571429 0.6712113\n",
       "8  2017-02-14 4.605170     0 0.33333333 1.0000000\n",
       "9  2017-02-15 4.356709     0 0.38095238 0.9460473\n",
       "10 2017-02-16 4.317488     0 0.42857143 0.9375306\n",
       "11 2017-02-17 3.988984     0 0.47619048 0.8661969\n",
       "12 2017-02-18 3.526361     0 0.52380952 0.7657395\n",
       "13 2017-02-19 3.526361     0 0.57142857 0.7657395\n",
       "14 2017-02-20 4.605170     0 0.61904762 1.0000000\n",
       "15 2017-02-21 4.290459     0 0.66666667 0.9316614\n",
       "16 2017-02-22 4.418841     0 0.71428571 0.9595390\n",
       "17 2017-02-23 4.204693     0 0.76190476 0.9130374\n",
       "18 2017-02-24 4.110874     0 0.80952381 0.8926649\n",
       "19 2017-02-25 3.295837     0 0.85714286 0.7156819\n",
       "20 2017-02-26 3.178054     0 0.90476190 0.6901056\n",
       "21 2017-02-27 4.605170     0 0.95238095 1.0000000\n",
       "22 2017-02-28 4.394449     0 1.00000000 0.9542425\n",
       "\n",
       "$history.dates\n",
       " [1] \"2017-02-07 GMT\" \"2017-02-08 GMT\" \"2017-02-09 GMT\" \"2017-02-10 GMT\"\n",
       " [5] \"2017-02-11 GMT\" \"2017-02-12 GMT\" \"2017-02-13 GMT\" \"2017-02-14 GMT\"\n",
       " [9] \"2017-02-15 GMT\" \"2017-02-16 GMT\" \"2017-02-17 GMT\" \"2017-02-18 GMT\"\n",
       "[13] \"2017-02-19 GMT\" \"2017-02-20 GMT\" \"2017-02-21 GMT\" \"2017-02-22 GMT\"\n",
       "[17] \"2017-02-23 GMT\" \"2017-02-24 GMT\" \"2017-02-25 GMT\" \"2017-02-26 GMT\"\n",
       "[21] \"2017-02-27 GMT\" \"2017-02-28 GMT\"\n",
       "\n",
       "attr(,\"class\")\n",
       "[1] \"prophet\" \"list\"   "
      ]
     },
     "metadata": {},
     "output_type": "display_data"
    }
   ],
   "source": [
    "m"
   ]
  },
  {
   "cell_type": "code",
   "execution_count": 13,
   "metadata": {},
   "outputs": [
    {
     "data": {
      "text/html": [
       "<table>\n",
       "<thead><tr><th scope=col>ds</th><th scope=col>y</th></tr></thead>\n",
       "<tbody>\n",
       "\t<tr><td>2017-02-07</td><td>4.110874  </td></tr>\n",
       "\t<tr><td>2017-02-08</td><td>3.931826  </td></tr>\n",
       "\t<tr><td>2017-02-09</td><td>3.295837  </td></tr>\n",
       "\t<tr><td>2017-02-10</td><td>3.970292  </td></tr>\n",
       "\t<tr><td>2017-02-11</td><td>3.295837  </td></tr>\n",
       "\t<tr><td>2017-02-12</td><td>2.833213  </td></tr>\n",
       "\t<tr><td>2017-02-13</td><td>3.091042  </td></tr>\n",
       "\t<tr><td>2017-02-14</td><td>4.605170  </td></tr>\n",
       "\t<tr><td>2017-02-15</td><td>4.356709  </td></tr>\n",
       "\t<tr><td>2017-02-16</td><td>4.317488  </td></tr>\n",
       "\t<tr><td>2017-02-17</td><td>3.988984  </td></tr>\n",
       "\t<tr><td>2017-02-18</td><td>3.526361  </td></tr>\n",
       "\t<tr><td>2017-02-19</td><td>3.526361  </td></tr>\n",
       "\t<tr><td>2017-02-20</td><td>4.605170  </td></tr>\n",
       "\t<tr><td>2017-02-21</td><td>4.290459  </td></tr>\n",
       "\t<tr><td>2017-02-22</td><td>4.418841  </td></tr>\n",
       "\t<tr><td>2017-02-23</td><td>4.204693  </td></tr>\n",
       "\t<tr><td>2017-02-24</td><td>4.110874  </td></tr>\n",
       "\t<tr><td>2017-02-25</td><td>3.295837  </td></tr>\n",
       "\t<tr><td>2017-02-26</td><td>3.178054  </td></tr>\n",
       "\t<tr><td>2017-02-27</td><td>4.605170  </td></tr>\n",
       "\t<tr><td>2017-02-28</td><td>4.394449  </td></tr>\n",
       "</tbody>\n",
       "</table>\n"
      ],
      "text/latex": [
       "\\begin{tabular}{r|ll}\n",
       " ds & y\\\\\n",
       "\\hline\n",
       "\t 2017-02-07 & 4.110874  \\\\\n",
       "\t 2017-02-08 & 3.931826  \\\\\n",
       "\t 2017-02-09 & 3.295837  \\\\\n",
       "\t 2017-02-10 & 3.970292  \\\\\n",
       "\t 2017-02-11 & 3.295837  \\\\\n",
       "\t 2017-02-12 & 2.833213  \\\\\n",
       "\t 2017-02-13 & 3.091042  \\\\\n",
       "\t 2017-02-14 & 4.605170  \\\\\n",
       "\t 2017-02-15 & 4.356709  \\\\\n",
       "\t 2017-02-16 & 4.317488  \\\\\n",
       "\t 2017-02-17 & 3.988984  \\\\\n",
       "\t 2017-02-18 & 3.526361  \\\\\n",
       "\t 2017-02-19 & 3.526361  \\\\\n",
       "\t 2017-02-20 & 4.605170  \\\\\n",
       "\t 2017-02-21 & 4.290459  \\\\\n",
       "\t 2017-02-22 & 4.418841  \\\\\n",
       "\t 2017-02-23 & 4.204693  \\\\\n",
       "\t 2017-02-24 & 4.110874  \\\\\n",
       "\t 2017-02-25 & 3.295837  \\\\\n",
       "\t 2017-02-26 & 3.178054  \\\\\n",
       "\t 2017-02-27 & 4.605170  \\\\\n",
       "\t 2017-02-28 & 4.394449  \\\\\n",
       "\\end{tabular}\n"
      ],
      "text/markdown": [
       "\n",
       "ds | y | \n",
       "|---|---|---|---|---|---|---|---|---|---|---|---|---|---|---|---|---|---|---|---|---|---|\n",
       "| 2017-02-07 | 4.110874   | \n",
       "| 2017-02-08 | 3.931826   | \n",
       "| 2017-02-09 | 3.295837   | \n",
       "| 2017-02-10 | 3.970292   | \n",
       "| 2017-02-11 | 3.295837   | \n",
       "| 2017-02-12 | 2.833213   | \n",
       "| 2017-02-13 | 3.091042   | \n",
       "| 2017-02-14 | 4.605170   | \n",
       "| 2017-02-15 | 4.356709   | \n",
       "| 2017-02-16 | 4.317488   | \n",
       "| 2017-02-17 | 3.988984   | \n",
       "| 2017-02-18 | 3.526361   | \n",
       "| 2017-02-19 | 3.526361   | \n",
       "| 2017-02-20 | 4.605170   | \n",
       "| 2017-02-21 | 4.290459   | \n",
       "| 2017-02-22 | 4.418841   | \n",
       "| 2017-02-23 | 4.204693   | \n",
       "| 2017-02-24 | 4.110874   | \n",
       "| 2017-02-25 | 3.295837   | \n",
       "| 2017-02-26 | 3.178054   | \n",
       "| 2017-02-27 | 4.605170   | \n",
       "| 2017-02-28 | 4.394449   | \n",
       "\n",
       "\n"
      ],
      "text/plain": [
       "   ds         y       \n",
       "1  2017-02-07 4.110874\n",
       "2  2017-02-08 3.931826\n",
       "3  2017-02-09 3.295837\n",
       "4  2017-02-10 3.970292\n",
       "5  2017-02-11 3.295837\n",
       "6  2017-02-12 2.833213\n",
       "7  2017-02-13 3.091042\n",
       "8  2017-02-14 4.605170\n",
       "9  2017-02-15 4.356709\n",
       "10 2017-02-16 4.317488\n",
       "11 2017-02-17 3.988984\n",
       "12 2017-02-18 3.526361\n",
       "13 2017-02-19 3.526361\n",
       "14 2017-02-20 4.605170\n",
       "15 2017-02-21 4.290459\n",
       "16 2017-02-22 4.418841\n",
       "17 2017-02-23 4.204693\n",
       "18 2017-02-24 4.110874\n",
       "19 2017-02-25 3.295837\n",
       "20 2017-02-26 3.178054\n",
       "21 2017-02-27 4.605170\n",
       "22 2017-02-28 4.394449"
      ]
     },
     "metadata": {},
     "output_type": "display_data"
    }
   ],
   "source": [
    "df"
   ]
  },
  {
   "cell_type": "markdown",
   "metadata": {},
   "source": [
    "6. View selections of learning data frame"
   ]
  },
  {
   "cell_type": "code",
   "execution_count": null,
   "metadata": {},
   "outputs": [],
   "source": [
    "class(df$ds)\n",
    "class(df$y)"
   ]
  },
  {
   "cell_type": "code",
   "execution_count": null,
   "metadata": {
    "collapsed": true
   },
   "outputs": [],
   "source": [
    "head(df$y)"
   ]
  },
  {
   "cell_type": "code",
   "execution_count": null,
   "metadata": {
    "collapsed": true
   },
   "outputs": [],
   "source": [
    "head(df$ds)"
   ]
  },
  {
   "cell_type": "code",
   "execution_count": null,
   "metadata": {
    "collapsed": true
   },
   "outputs": [],
   "source": [
    "tail(df$y)"
   ]
  },
  {
   "cell_type": "code",
   "execution_count": null,
   "metadata": {
    "collapsed": true
   },
   "outputs": [],
   "source": [
    "tail(df$ds)"
   ]
  },
  {
   "cell_type": "markdown",
   "metadata": {},
   "source": [
    "7. Forecast loads with seasonality of 7 days, then transform result to `exp(y)` $e^{y}$"
   ]
  },
  {
   "cell_type": "code",
   "execution_count": null,
   "metadata": {
    "collapsed": true
   },
   "outputs": [],
   "source": [
    "future <- make_future_dataframe(m, periods = 7)\n",
    "tail(future)"
   ]
  },
  {
   "cell_type": "code",
   "execution_count": null,
   "metadata": {
    "collapsed": true
   },
   "outputs": [],
   "source": [
    "forecast <- predict(m, future)"
   ]
  },
  {
   "cell_type": "markdown",
   "metadata": {},
   "source": [
    "8. View the output data frame"
   ]
  },
  {
   "cell_type": "code",
   "execution_count": null,
   "metadata": {},
   "outputs": [],
   "source": [
    "future"
   ]
  },
  {
   "cell_type": "code",
   "execution_count": null,
   "metadata": {
    "collapsed": true
   },
   "outputs": [],
   "source": [
    "forecast"
   ]
  },
  {
   "cell_type": "code",
   "execution_count": null,
   "metadata": {
    "collapsed": true
   },
   "outputs": [],
   "source": [
    "tail(forecast[c('ds', 'yhat', 'yhat_lower', 'yhat_upper')])"
   ]
  },
  {
   "cell_type": "markdown",
   "metadata": {},
   "source": [
    "9. Plot the (natural logarithm of) results"
   ]
  },
  {
   "cell_type": "code",
   "execution_count": null,
   "metadata": {},
   "outputs": [],
   "source": [
    "plot(m, forecast)"
   ]
  },
  {
   "cell_type": "code",
   "execution_count": null,
   "metadata": {},
   "outputs": [],
   "source": [
    "prophet_plot_components(m, forecast)"
   ]
  },
  {
   "cell_type": "markdown",
   "metadata": {},
   "source": [
    "10. See more information on data frame forecast"
   ]
  },
  {
   "cell_type": "code",
   "execution_count": null,
   "metadata": {
    "collapsed": true
   },
   "outputs": [],
   "source": [
    "str(forecast)"
   ]
  },
  {
   "cell_type": "code",
   "execution_count": null,
   "metadata": {
    "collapsed": true
   },
   "outputs": [],
   "source": [
    "tail(forecast)"
   ]
  },
  {
   "cell_type": "code",
   "execution_count": null,
   "metadata": {
    "collapsed": true
   },
   "outputs": [],
   "source": [
    "head(forecast)"
   ]
  },
  {
   "cell_type": "code",
   "execution_count": null,
   "metadata": {
    "collapsed": true
   },
   "outputs": [],
   "source": [
    "names(forecast)"
   ]
  },
  {
   "cell_type": "code",
   "execution_count": null,
   "metadata": {
    "collapsed": true
   },
   "outputs": [],
   "source": [
    "dim(forecast) # no of rows and cols"
   ]
  },
  {
   "cell_type": "markdown",
   "metadata": {},
   "source": [
    "11. Investigate the specific values of the (natural log of) forecast load yhat"
   ]
  },
  {
   "cell_type": "code",
   "execution_count": null,
   "metadata": {
    "collapsed": true
   },
   "outputs": [],
   "source": [
    "forecast$yhat"
   ]
  },
  {
   "cell_type": "markdown",
   "metadata": {},
   "source": [
    "12. Calculate the load % forecast by exponentiating the above values $e^{\\bar{y}}$"
   ]
  },
  {
   "cell_type": "code",
   "execution_count": null,
   "metadata": {
    "collapsed": true
   },
   "outputs": [],
   "source": [
    "exp(forecast$yhat)"
   ]
  },
  {
   "cell_type": "markdown",
   "metadata": {},
   "source": [
    "13. Create a new data frame with only the future dates and forecast of load %"
   ]
  },
  {
   "cell_type": "code",
   "execution_count": null,
   "metadata": {
    "collapsed": true
   },
   "outputs": [],
   "source": [
    "df1 <- data.frame(forecast$ds,exp(forecast$yhat))"
   ]
  },
  {
   "cell_type": "code",
   "execution_count": null,
   "metadata": {},
   "outputs": [],
   "source": [
    "df1"
   ]
  },
  {
   "cell_type": "code",
   "execution_count": null,
   "metadata": {},
   "outputs": [],
   "source": [
    "plot(df1,type=\"o\", xlab = \"Weekly Seasonality\", ylab = \"Load %\",main = \"Forecast of Load % for Daily Sailing at 0620\")"
   ]
  }
 ],
 "metadata": {
  "kernelspec": {
   "display_name": "R",
   "language": "R",
   "name": "ir"
  },
  "language_info": {
   "codemirror_mode": "r",
   "file_extension": ".r",
   "mimetype": "text/x-r-source",
   "name": "R",
   "pygments_lexer": "r",
   "version": "3.4.2"
  }
 },
 "nbformat": 4,
 "nbformat_minor": 2
}
